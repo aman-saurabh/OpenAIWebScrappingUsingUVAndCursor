{
 "cells": [
  {
   "cell_type": "code",
   "execution_count": 1,
   "id": "4c283286",
   "metadata": {},
   "outputs": [],
   "source": [
    "import os\n",
    "from bs4 import BeautifulSoup\n",
    "from dotenv import load_dotenv\n",
    "from openai import OpenAI\n",
    "import pandas as pd\n",
    "\n",
    "# Import fetch_website_contents from scraper module\n",
    "from scraper import fetch_website_contents\n",
    "\n",
    "# Load OpenAI API key from .env\n",
    "load_dotenv()\n",
    "api_key = os.getenv(\"OPENAI_API_KEY\")\n",
    "client = OpenAI(api_key=api_key)\n"
   ]
  },
  {
   "cell_type": "code",
   "execution_count": 2,
   "id": "82156463",
   "metadata": {},
   "outputs": [],
   "source": [
    "def scrape_headlines(url, limit=10):\n",
    "    \"\"\"Scrape top website headlines.\"\"\"\n",
    "\n",
    "    html = fetch_website_contents(url)\n",
    "    \n",
    "    if not html:\n",
    "        return []\n",
    "    \n",
    "    soup = BeautifulSoup(html, \"html.parser\")\n",
    "    headlines = []\n",
    "\n",
    "    for h2 in soup.find_all(\"h2\", limit=limit):\n",
    "        text = h2.get_text().strip()\n",
    "        if text:\n",
    "            headlines.append(text)\n",
    "    \n",
    "    return headlines"
   ]
  },
  {
   "cell_type": "code",
   "execution_count": 3,
   "id": "4ad67ae0",
   "metadata": {},
   "outputs": [],
   "source": [
    "def summarize_headlines_with_gpt(headlines):\n",
    "    \"\"\"Summarize headlines using OpenAI GPT.\"\"\"\n",
    "    if not headlines:\n",
    "        return \"No headlines found to summarize.\"\n",
    "\n",
    "    system_prompt = \"You are an AI assistant that analyses content of a website\"\n",
    "    user_prompt = (\n",
    "        \"Summarize the following headlines \"\n",
    "        \"into a short news overview:\\n\\n\"\n",
    "        + \"\\n\".join(f\"- {h}\" for h in headlines)\n",
    "    )\n",
    "\n",
    "    response = client.chat.completions.create(\n",
    "        model=\"gpt-4o-mini\",\n",
    "        messages=[\n",
    "            {\"role\": \"system\", \"content\": system_prompt},\n",
    "            {\"role\": \"user\", \"content\": user_prompt}\n",
    "        ],\n",
    "        max_tokens=200\n",
    "    )\n",
    "\n",
    "    return response.choices[0].message.content.strip()"
   ]
  },
  {
   "cell_type": "code",
   "execution_count": 4,
   "id": "c5bea454",
   "metadata": {},
   "outputs": [
    {
     "name": "stdout",
     "output_type": "stream",
     "text": [
      "📰 Found 10 headlines:\n",
      "\n",
      "- King Charles becomes first head of Church of England to pray publicly with Pope\n",
      "- Myanmar's army is taking back territory with relentless air strikes - and China's help\n",
      "- Strong winds in New Zealand leave tens of thousands without power\n",
      "- Toxic air is back again in Delhi - here's why it's so hard to stop it\n",
      "- British man drowns in Australia after surfboard snaps in wild weather\n",
      "- Myanmar's army is taking back territory with relentless air strikes - and China's help\n",
      "- Trump says Putin talks 'don't go anywhere' as he imposes new sanctions\n",
      "- Person of interest in British girl's disappearance named in Australian state parliament\n",
      "- Gen Z rising? Why young Indians aren't taking to the streets\n",
      "- Strong winds in New Zealand leave tens of thousands without power\n",
      "\n",
      "🧾 GPT Summary:\n",
      "\n",
      "In recent news, King Charles has made history as the first head of the Church of England to pray publicly alongside Pope Francis. Meanwhile, the Myanmar army is advancing in territorial control, aided by air strikes and support from China. In New Zealand, strong winds have left tens of thousands without power due to severe weather conditions. Delhi is grappling with toxic air pollution again, highlighting ongoing challenges in combating this issue. In Australia, a British man tragically drowned after his surfboard broke during wild weather. Additionally, former President Trump criticized his talks with Putin as unproductive while announcing new sanctions. In Australia, a person of interest has been identified in the case of a British girl's disappearance, and discussions continue regarding the socio-political engagement of young Indians, with questions about why they are not more active in protests.\n"
     ]
    }
   ],
   "source": [
    "headlines = scrape_headlines(\"https://www.bbc.com/news\")\n",
    "print(f\"📰 Found {len(headlines)} headlines:\\n\")\n",
    "for h in headlines:\n",
    "    print(\"-\", h)\n",
    "\n",
    "summary = summarize_headlines_with_gpt(headlines)\n",
    "print(\"\\n🧾 GPT Summary:\\n\")\n",
    "print(summary)"
   ]
  },
  {
   "cell_type": "code",
   "execution_count": 5,
   "id": "06ef0391",
   "metadata": {},
   "outputs": [
    {
     "name": "stdout",
     "output_type": "stream",
     "text": [
      "✅ Headlines saved to headlines.csv\n"
     ]
    }
   ],
   "source": [
    "df = pd.DataFrame({\"Headline\": headlines})\n",
    "df.to_csv(\"headlines.csv\", index=False)\n",
    "print(\"✅ Headlines saved to headlines.csv\")"
   ]
  }
 ],
 "metadata": {
  "kernelspec": {
   "display_name": ".venv",
   "language": "python",
   "name": "python3"
  },
  "language_info": {
   "codemirror_mode": {
    "name": "ipython",
    "version": 3
   },
   "file_extension": ".py",
   "mimetype": "text/x-python",
   "name": "python",
   "nbconvert_exporter": "python",
   "pygments_lexer": "ipython3",
   "version": "3.12.12"
  }
 },
 "nbformat": 4,
 "nbformat_minor": 5
}
