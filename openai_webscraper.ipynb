{
 "cells": [
  {
   "cell_type": "code",
   "execution_count": 1,
   "id": "4c283286",
   "metadata": {},
   "outputs": [],
   "source": [
    "import os\n",
    "from bs4 import BeautifulSoup\n",
    "from dotenv import load_dotenv\n",
    "from openai import OpenAI\n",
    "import pandas as pd\n",
    "\n",
    "# Import fetch_website_contents from scraper module\n",
    "from scraper import fetch_website_contents\n",
    "\n",
    "# Load OpenAI API key from .env\n",
    "load_dotenv()\n",
    "api_key = os.getenv(\"OPENAI_API_KEY\")\n",
    "client = OpenAI(api_key=api_key)\n"
   ]
  },
  {
   "cell_type": "code",
   "execution_count": 2,
   "id": "82156463",
   "metadata": {},
   "outputs": [],
   "source": [
    "def scrape_bbc_headlines(limit=10):\n",
    "    \"\"\"Scrape top BBC News headlines.\"\"\"\n",
    "    url = \"https://www.bbc.com/news\"\n",
    "    html = fetch_website_contents(url)\n",
    "    \n",
    "    if not html:\n",
    "        return []\n",
    "    \n",
    "    soup = BeautifulSoup(html, \"html.parser\")\n",
    "    headlines = []\n",
    "\n",
    "    for h2 in soup.find_all(\"h2\", limit=limit):\n",
    "        text = h2.get_text().strip()\n",
    "        if text:\n",
    "            headlines.append(text)\n",
    "    \n",
    "    return headlines"
   ]
  },
  {
   "cell_type": "code",
   "execution_count": 3,
   "id": "4ad67ae0",
   "metadata": {},
   "outputs": [],
   "source": [
    "def summarize_headlines_with_gpt(headlines):\n",
    "    \"\"\"Summarize BBC headlines using OpenAI GPT.\"\"\"\n",
    "    if not headlines:\n",
    "        return \"No headlines found to summarize.\"\n",
    "\n",
    "    system_prompt = \"You are an AI assistant that analyses content of a website\"\n",
    "    user_prompt = (\n",
    "        \"Summarize the following BBC headlines \"\n",
    "        \"into a short news overview:\\n\\n\"\n",
    "        + \"\\n\".join(f\"- {h}\" for h in headlines)\n",
    "    )\n",
    "\n",
    "    response = client.chat.completions.create(\n",
    "        model=\"gpt-4o-mini\",\n",
    "        messages=[\n",
    "            {\"role\": \"system\", \"content\": system_prompt},\n",
    "            {\"role\": \"user\", \"content\": user_prompt}\n",
    "        ],\n",
    "        max_tokens=200\n",
    "    )\n",
    "\n",
    "    return response.choices[0].message.content.strip()"
   ]
  },
  {
   "cell_type": "code",
   "execution_count": 4,
   "id": "c5bea454",
   "metadata": {},
   "outputs": [
    {
     "name": "stdout",
     "output_type": "stream",
     "text": [
      "📰 Found 10 BBC headlines:\n",
      "\n",
      "- Security camera didn't cover area where jewel thieves broke into Louvre, director says\n",
      "- Children among victims in Russian strikes, hours after Trump-Putin talks shelved\n",
      "- SpaceX says it has cut Starlink services to Myanmar scam camps\n",
      "- Effects of antidepressants on physical health ranked for first time\n",
      "- Verifying aftermath pictures of devastating Uganda bus crash\n",
      "- Children among victims in Russian strikes, hours after Trump-Putin talks shelved\n",
      "- Why Trump made breakthrough in Gaza but can't with Putin over Ukraine\n",
      "- Gaza health crisis will last for generations, WHO chief tells BBC\n",
      "- UN's top court says Israel obliged to allow UN aid into Gaza\n",
      "- SpaceX says it has cut Starlink services to Myanmar scam camps\n",
      "\n",
      "🧾 GPT Summary:\n",
      "\n",
      "Recent news highlights include the following:\n",
      "\n",
      "The director of the Louvre revealed that security cameras did not cover the area where jewel thieves broke in. In Russia, strikes that resulted in child casualties occurred shortly after discussions between Trump and Putin were postponed. SpaceX has announced it has halted Starlink services to suspected scam operations in Myanmar. For the first time, a ranking has been established for the effects of antidepressants on physical health. Additionally, efforts are underway to verify images from a tragic bus crash in Uganda. Meanwhile, the WHO chief warned that the health crisis in Gaza will have long-lasting repercussions. The UN's highest court stated that Israel must permit UN aid into Gaza. Lastly, the complex dynamics between Trump and geopolitical issues in Gaza and Ukraine are also under examination.\n"
     ]
    }
   ],
   "source": [
    "headlines = scrape_bbc_headlines()\n",
    "print(f\"📰 Found {len(headlines)} BBC headlines:\\n\")\n",
    "for h in headlines:\n",
    "    print(\"-\", h)\n",
    "\n",
    "summary = summarize_headlines_with_gpt(headlines)\n",
    "print(\"\\n🧾 GPT Summary:\\n\")\n",
    "print(summary)"
   ]
  },
  {
   "cell_type": "code",
   "execution_count": 5,
   "id": "06ef0391",
   "metadata": {},
   "outputs": [
    {
     "name": "stdout",
     "output_type": "stream",
     "text": [
      "✅ Headlines saved to bbc_headlines.csv\n"
     ]
    }
   ],
   "source": [
    "df = pd.DataFrame({\"Headline\": headlines})\n",
    "df.to_csv(\"bbc_headlines.csv\", index=False)\n",
    "print(\"✅ Headlines saved to bbc_headlines.csv\")"
   ]
  }
 ],
 "metadata": {
  "kernelspec": {
   "display_name": ".venv",
   "language": "python",
   "name": "python3"
  },
  "language_info": {
   "codemirror_mode": {
    "name": "ipython",
    "version": 3
   },
   "file_extension": ".py",
   "mimetype": "text/x-python",
   "name": "python",
   "nbconvert_exporter": "python",
   "pygments_lexer": "ipython3",
   "version": "3.12.12"
  }
 },
 "nbformat": 4,
 "nbformat_minor": 5
}
